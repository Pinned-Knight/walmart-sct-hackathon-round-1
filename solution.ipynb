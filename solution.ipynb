{
 "cells": [
  {
   "cell_type": "code",
   "execution_count": 1,
   "metadata": {},
   "outputs": [],
   "source": [
    "import numpy as np"
   ]
  },
  {
   "cell_type": "code",
   "execution_count": 128,
   "metadata": {},
   "outputs": [],
   "source": [
    "data1 = np.genfromtxt('data\\\\part_a_input_dataset_1.csv', delimiter=',')\n",
    "data2 = np.genfromtxt('data\\\\part_a_input_dataset_2.csv', delimiter=',')\n",
    "data3 = np.genfromtxt('data\\\\part_a_input_dataset_3.csv', delimiter=',')\n",
    "data4 = np.genfromtxt('data\\\\part_a_input_dataset_4.csv', delimiter=',')\n",
    "data5 = np.genfromtxt('data\\\\part_a_input_dataset_5.csv', delimiter=',')\n",
    "data = [data1,data2,data3,data4,data5]"
   ]
  },
  {
   "cell_type": "code",
   "execution_count": 116,
   "metadata": {},
   "outputs": [],
   "source": [
    "import numpy as np\n",
    "def haversine(lat1, lon1, lat2, lon2):\n",
    "    R = 6371  # radius of Earth in kilometers\n",
    "    phi1 = np.radians(lat1)\n",
    "    phi2 = np.radians(lat2)\n",
    "    delta_phi = np.radians(lat2 - lat1)\n",
    "    delta_lambda = np.radians(lon2 - lon1)\n",
    "    a = np.sin(delta_phi/2)**2 + np.cos(phi1) * np.cos(phi2) * np.sin(delta_lambda/2)**2\n",
    "    res = R * (2 * np.arctan2(np.sqrt(a), np.sqrt(1 - a)))\n",
    "    return np.round(res, 2)"
   ]
  },
  {
   "cell_type": "code",
   "execution_count": 126,
   "metadata": {},
   "outputs": [],
   "source": [
    "nos = [5,10,15,20,25]"
   ]
  },
  {
   "cell_type": "code",
   "execution_count": 129,
   "metadata": {},
   "outputs": [],
   "source": [
    "lat = []\n",
    "for j in range(5):\n",
    "    lat.append([])\n",
    "    lat[j].append(data[j][1][3])\n",
    "    for i in range(1,nos[j]):\n",
    "        lat[j].append(data[j][i][2])\n"
   ]
  },
  {
   "cell_type": "code",
   "execution_count": 130,
   "metadata": {},
   "outputs": [],
   "source": [
    "lon = []\n",
    "for j in range(5):\n",
    "    lon.append([])\n",
    "    lon[j].append(data[j][1][4])\n",
    "    for i in range(1,nos[j]):\n",
    "        lon[j].append(data[j][i][1])\n",
    "\n"
   ]
  },
  {
   "cell_type": "code",
   "execution_count": 131,
   "metadata": {},
   "outputs": [],
   "source": [
    "path = []\n",
    "unvis = []\n",
    "for d in range (5):\n",
    "        \n",
    "    unvis.append([i for i in range(1,nos[d])])\n",
    "    path.append([0])\n",
    "    root = 0\n",
    "    for j in range(1,nos[d]):\n",
    "        rootDist = [99999]*nos[d]\n",
    "        for i in unvis[d]:\n",
    "            rootDist[i] = (haversine(lat[d][root],lon[d][root],lat[d][i],lon[d][i]))\n",
    "        path[d].append(rootDist.index(min(rootDist)))\n",
    "        unvis[d].remove(rootDist.index(min(rootDist)))\n",
    "    path[d].append(0)"
   ]
  },
  {
   "cell_type": "code",
   "execution_count": null,
   "metadata": {},
   "outputs": [],
   "source": []
  }
 ],
 "metadata": {
  "kernelspec": {
   "display_name": "Python 3",
   "language": "python",
   "name": "python3"
  },
  "language_info": {
   "codemirror_mode": {
    "name": "ipython",
    "version": 3
   },
   "file_extension": ".py",
   "mimetype": "text/x-python",
   "name": "python",
   "nbconvert_exporter": "python",
   "pygments_lexer": "ipython3",
   "version": "3.11.5"
  }
 },
 "nbformat": 4,
 "nbformat_minor": 2
}
